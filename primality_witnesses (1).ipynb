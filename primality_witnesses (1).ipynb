{
  "nbformat": 4,
  "nbformat_minor": 0,
  "metadata": {
    "colab": {
      "provenance": []
    },
    "kernelspec": {
      "name": "python3",
      "display_name": "Python 3"
    },
    "language_info": {
      "name": "python"
    }
  },
  "cells": [
    {
      "cell_type": "code",
      "source": [
        "import math\n",
        "import time\n",
        "def compute_s_q(n):\n",
        "\n",
        "    m = n - 1\n",
        "    s = 0\n",
        "    while m % 2 == 0:\n",
        "        m //= 2\n",
        "        s += 1\n",
        "    return s, m\n",
        "\n",
        "def find_A(n):\n",
        "    if n < 2:\n",
        "        return 0\n",
        "\n",
        "    s, q = compute_s_q(n)\n",
        "    A = []\n",
        "\n",
        "    for a in range(1, n):\n",
        "        if math.gcd(a, n) != 1:\n",
        "            continue\n",
        "\n",
        "        if pow(a, q, n) == 1:\n",
        "            A.append(a)\n",
        "            continue\n",
        "\n",
        "        for i in range(s):\n",
        "            if pow(a, q * (2**i), n) == n - 1:\n",
        "                A.append(a)\n",
        "                break\n",
        "\n",
        "    return len(A)\n",
        "\n",
        "# Example usage for n = 500039\n",
        "n1=500039\n",
        "A_result = find_A(n1)\n",
        "\n",
        "print(\"Elements of A:\", A_result)"
      ],
      "metadata": {
        "colab": {
          "base_uri": "https://localhost:8080/"
        },
        "id": "_36W4RqZiiDV",
        "outputId": "d070f501-2610-41b3-e817-ef154c56a13e"
      },
      "execution_count": 1,
      "outputs": [
        {
          "output_type": "stream",
          "name": "stdout",
          "text": [
            "Elements of A: 98\n"
          ]
        }
      ]
    },
    {
      "cell_type": "code",
      "source": [
        "import sympy\n",
        "\n",
        "def exact_A(n, q):\n",
        "    prime_factors = sympy.primefactors(n)\n",
        "    d = len(prime_factors)\n",
        "\n",
        "    mu = float('inf')\n",
        "    for p in prime_factors:\n",
        "        exponent, _ = compute_s_q(p)\n",
        "        mu = min(mu, exponent)\n",
        "\n",
        "    if mu == float('inf'):\n",
        "        mu = 0\n",
        "\n",
        "    product_gcd = math.prod(math.gcd(q, p - 1) for p in prime_factors)\n",
        "\n",
        "    mod_val = 10**9 + 7\n",
        "    num = pow(2, mu * d, mod_val) - 1\n",
        "    den = pow(2, d, mod_val) - 1\n",
        "\n",
        "    if den != 0:\n",
        "        den_inv = pow(den, mod_val - 2, mod_val)\n",
        "        fraction_part = (num * den_inv) % mod_val\n",
        "    else:\n",
        "        fraction_part = 0\n",
        "\n",
        "    A_size = ((1 + fraction_part) * product_gcd) % mod_val\n",
        "\n",
        "    return A_size\n",
        "\n",
        "s,q = compute_s_q(n1)\n",
        "A_size = exact_A(n1, q)\n",
        "print(\"|A| =\", A_size)"
      ],
      "metadata": {
        "colab": {
          "base_uri": "https://localhost:8080/"
        },
        "id": "Q8Pl7PEO3WuT",
        "outputId": "a62b8973-f54a-4f91-f46f-ab6f66886309"
      },
      "execution_count": 2,
      "outputs": [
        {
          "output_type": "stream",
          "name": "stdout",
          "text": [
            "|A| = 98\n"
          ]
        }
      ]
    },
    {
      "cell_type": "code",
      "source": [
        "count=0\n",
        "total_time_find_A = 0\n",
        "total_time_exact_A = 0\n",
        "\n",
        "for n in range(9, 10000, 2):\n",
        "    if sympy.isprime(n):\n",
        "        continue\n",
        "    count+=1\n",
        "    s, q = compute_s_q(n)\n",
        "\n",
        "    start = time.time()\n",
        "    A1 = find_A(n)\n",
        "    total_time_find_A += time.time() - start\n",
        "\n",
        "    start = time.time()\n",
        "    A2 = exact_A(n, q)\n",
        "    total_time_exact_A += time.time() - start\n",
        "\n",
        "    if A1 != A2:\n",
        "        print(f\"Inconsistency found for n = {n}: brute-force = {A1}, exact formula = {A2}\")\n",
        "print(\"Number of composite, odd integers between 9 and 10000:\", count)\n",
        "print(f\"Total time for find_A: {total_time_find_A:.2f} seconds\")\n",
        "print(f\"Total time for exact_A: {total_time_exact_A:.2f} seconds\")\n",
        "print(f\"Average time per find_A call: {total_time_find_A / count:.6f} seconds\")\n",
        "print(f\"Average time per exact_A call: {total_time_exact_A / count:.6f} seconds\")"
      ],
      "metadata": {
        "colab": {
          "base_uri": "https://localhost:8080/"
        },
        "id": "7Fe6asIe7Fzm",
        "outputId": "a528d1cc-f2a5-4da8-f2cd-5b51a1b90569"
      },
      "execution_count": 3,
      "outputs": [
        {
          "output_type": "stream",
          "name": "stdout",
          "text": [
            "Number of composite, odd integers between 9 and 10000: 3771\n",
            "Total time for find_A: 44.51 seconds\n",
            "Total time for exact_A: 0.36 seconds\n",
            "Average time per find_A call: 0.011803 seconds\n",
            "Average time per exact_A call: 0.000096 seconds\n"
          ]
        }
      ]
    }
  ]
}